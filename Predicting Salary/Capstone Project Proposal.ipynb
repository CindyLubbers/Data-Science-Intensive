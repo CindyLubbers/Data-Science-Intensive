{
 "cells": [
  {
   "cell_type": "markdown",
   "metadata": {},
   "source": [
    "## Capstone Project Proposal: Predicting regular big incoming transactions like salary\n",
    "### Problem to be solved\n",
    "\n",
    "I will predict the next big incoming transaction, mostly salary, for every customer. \n",
    "\n",
    "### Who is my client and why would they care about this problem?\n",
    "\n",
    "My client is a bank in the Netherlands. She wants to give customers insight in their total financial situation. She will (hopefully) use my algorithm to give the customer a better insight in their (big) incoming transactions. This algorithm is one part of the complete financial overview of a customer. Actually, the customer is the real (end)client whom I hope to help with this algorithm. \n",
    "\n",
    "The bank will decide to use my algorithm for their customers, if it is good enough. It still has to be determined what good enough exactly means.\n",
    "\n",
    "The bank's customers will have better insight in their financial situation next month (my algorithm is only part of the total solution) and based on this insight will act upon that (of course not all customers will use the feature). This could mean:\n",
    "- They decide to buy or not to buy something expensive\n",
    "- They decide to save more\n",
    "- They decide to transfer some money from their savings account to their current account\n",
    "\n",
    "### What data will I be using and how will I acquire the data?\n",
    "\n",
    "I will be using anonimized transaction data of customers going back at most seven years. I will only use incoming transactions, which means with a positive effect on the balance. These data come from a table in:\n",
    "- a Netezza database\n",
    "- an Hadoop cluster\n",
    "\n",
    "The first I will use for local calculations on my laptop. The latter I can use for parallel computations on the same data, preferrably with Spark. The Capstone will definitely entail the first one and only the latter, if enough time remains to also use Spark. \n",
    "\n",
    "For my laptop I will also prepare several random samples of the data, to be able to process the data (quickly). It is to be expected that my laptop cannot handle all incoming transactions from all customers for the last seven years. \n",
    "\n",
    "### Approach to solving this problem\n",
    "\n",
    "I see the following steps required to solve this problem:\n",
    "1. Create an algorithm to determine which transaction is the biggest regular one\n",
    "2. Create an algorithm to predict the next most likely date this transaction will occur in the future\n",
    "3. Create an algorithm to predict the amount of the biggest transaction\n",
    "\n",
    "### The project deliverables\n",
    "\n",
    "The project deliverables will consist of:\n",
    "\n",
    "- iPython notebook containing all code, graphs and documentation\n",
    "- A paper describing the analysis and results in PDF\n",
    "- A short PowerPoint presentation, a management summary of the analysis and results \n",
    "\n",
    " "
   ]
  }
 ],
 "metadata": {
  "kernelspec": {
   "display_name": "Python 2",
   "language": "python",
   "name": "python2"
  },
  "language_info": {
   "codemirror_mode": {
    "name": "ipython",
    "version": 2
   },
   "file_extension": ".py",
   "mimetype": "text/x-python",
   "name": "python",
   "nbconvert_exporter": "python",
   "pygments_lexer": "ipython2",
   "version": "2.7.11"
  }
 },
 "nbformat": 4,
 "nbformat_minor": 0
}
