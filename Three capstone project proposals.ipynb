{
 "cells": [
  {
   "cell_type": "markdown",
   "metadata": {},
   "source": [
    "## Three capstone project proposals\n",
    "All three project proposals are based on the same dataset containing all transactions of customers of a bank in the Netherlands.\n",
    "### Idea 1: direct debits pattern detection\n",
    "Date of withdrawal pattern detection of direct debits, so that we know when the next withdrawal will take place for every company (if I was able to detect a pattern...)\n",
    "### Idea 2: Predicting salary\n",
    "Incoming transactions: try to detect patterns of e.g. salary in dates of transfer to be able to predict the next salary date, but also an estimate of the amount. This involves two things: pattern detection (albeit for only one type of transaction) and time series analysis\n",
    "### Idea 3: Predicting regular ATM-transactions\n",
    "\"regular\" ATM-transactions: For every type of ATM-transaction for every customer determine a measure of regularity (for some customers buying a book can be regular, for others it is not). Next aggregate these transactions on a weekly basis and try to predict them for the next week. This involves pattern detection, finding a regularity measure and also time series analysis."
   ]
  }
 ],
 "metadata": {
  "kernelspec": {
   "display_name": "Python 2",
   "language": "python",
   "name": "python2"
  },
  "language_info": {
   "codemirror_mode": {
    "name": "ipython",
    "version": 2
   },
   "file_extension": ".py",
   "mimetype": "text/x-python",
   "name": "python",
   "nbconvert_exporter": "python",
   "pygments_lexer": "ipython2",
   "version": "2.7.11"
  }
 },
 "nbformat": 4,
 "nbformat_minor": 0
}
